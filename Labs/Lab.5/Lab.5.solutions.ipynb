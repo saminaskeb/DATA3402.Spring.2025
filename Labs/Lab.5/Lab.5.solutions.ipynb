{
 "cells": [
  {
   "cell_type": "markdown",
   "metadata": {},
   "source": [
    "# Lab 5\n"
   ]
  },
  {
   "cell_type": "markdown",
   "metadata": {},
   "source": [
    "Matrix Representation: In this lab you will be creating a simple linear algebra system. In memory, we will represent matrices as nested python lists as we have done in lecture. In the exercises below, you are required to explicitly test every feature you implement, demonstrating it works.\n",
    "\n",
    "1. Create a `matrix` class with the following properties:\n",
    "    * It can be initialized in 2 ways:\n",
    "        1. with arguments `n` and `m`, the size of the matrix. A newly instanciated matrix will contain all zeros.\n",
    "        2. with a list of lists of values. Note that since we are using lists of lists to implement matrices, it is possible that not all rows have the same number of columns. Test explicitly that the matrix is properly specified.\n",
    "    * Matrix instances `M` can be indexed with `M[i][j]` and `M[i,j]`.\n",
    "    * Matrix assignment works in 2 ways:\n",
    "        1. If `M_1` and `M_2` are `matrix` instances `M_1=M_2` sets the values of `M_1` to those of `M_2`, if they are the same size. Error otherwise.\n",
    "        2. In example above `M_2` can be a list of lists of correct size.\n"
   ]
  },
  {
   "cell_type": "code",
   "execution_count": 40,
   "metadata": {},
   "outputs": [],
   "source": [
    "class Matrix:\n",
    "    def __init__(self, n=None, m=None, values=None):\n",
    "        if values is not None:  \n",
    "            if not all(len(row) == len(values[0]) for row in values):\n",
    "                raise ValueError(\"All rows must have the same number of columns.\")\n",
    "            self.data = values\n",
    "            self.n = len(values)\n",
    "            self.m = len(values[0])\n",
    "        elif n is not None and m is not None:  \n",
    "            self.n = n\n",
    "            self.m = m\n",
    "            self.data = [[0 for _ in range(m)] for _ in range(n)]\n",
    "        else:\n",
    "            raise ValueError(\"Invalid initialization arguments.\")\n",
    "            \n",
    "    def __getitem__(self, index):\n",
    "        if isinstance(index, tuple):\n",
    "            i, j = index\n",
    "            return self.data[i][j]\n",
    "        elif isinstance(index, slice):  \n",
    "            return self.data[index]\n",
    "        else:\n",
    "            return self.data[index]\n",
    "\n",
    "    def __setitem__(self, index, value):\n",
    "        if isinstance(index, tuple):\n",
    "            i, j = index\n",
    "            self.data[i][j] = value\n",
    "        else:\n",
    "            raise ValueError(\"Invalid index format\")\n",
    "            \n",
    "    def assign(self, other):\n",
    "        if isinstance(other, Matrix): \n",
    "            if self.n == other.n and self.m == other.m:\n",
    "                self.data = [row[:] for row in other.data]  \n",
    "            else:\n",
    "                raise ValueError(\"Matrix dimensions must match for assignment.\")\n",
    "        elif isinstance(other, list):  \n",
    "            if len(other) == self.n and all(len(row) == self.m for row in other):\n",
    "                self.data = [row[:] for row in other]\n",
    "            else:\n",
    "                raise ValueError(\"List of lists must match the matrix dimensions.\")\n",
    "        else:\n",
    "            raise TypeError(\"Can only assign from another matrix or a list of lists.\")\n",
    "            \n",
    "            \n",
    "        # Question 2    \n",
    "    def shape(self):\n",
    "        return (self.n, self.m)\n",
    "\n",
    "    def transpose(self):\n",
    "        transposed_data = [[self.data[j][i] for j in range(self.n)] for i in range(self.m)]\n",
    "        return Matrix(values=transposed_data)\n",
    "\n",
    "    def row(self, n):\n",
    "        if n >= self.n:\n",
    "            raise ValueError(\"Row index out of range.\")\n",
    "        return Matrix(values=[self.data[n]])\n",
    "\n",
    "    def column(self, n):\n",
    "        if n >= self.m:\n",
    "            raise ValueError(\"Column index out of range.\")\n",
    "        return Matrix(values=[[self.data[i][n]] for i in range(self.n)])\n",
    "\n",
    "    def to_list(self):\n",
    "        return self.data\n",
    "\n",
    "    def block(self, n_0, n_1, m_0, m_1):\n",
    "        if not (0 <= n_0 <= n_1 <= self.n and 0 <= m_0 <= m_1 <= self.m):\n",
    "            raise ValueError(\"Invalid block indices.\")\n",
    "        block_data = [row[m_0:m_1] for row in self.data[n_0:n_1]]\n",
    "        return Matrix(values=block_data)\n",
    "    \n",
    "    \n",
    "         # Question 4\n",
    "\n",
    "    def scalarmul(self, c):\n",
    "        return Matrix(values=[[self.data[i][j] * c for j in range(self.m)] for i in range(self.n)])\n",
    "\n",
    "    def add(self, N):\n",
    "        if self.n != N.n or self.m != N.m:\n",
    "            raise ValueError(\"Matrices must have the same dimensions to be added.\")\n",
    "        return Matrix(values=[[self.data[i][j] + N.data[i][j] for j in range(self.m)] for i in range(self.n)])\n",
    "\n",
    "    def sub(self, N):\n",
    "        if self.n != N.n or self.m != N.m:\n",
    "            raise ValueError(\"Matrices must have the same dimensions to be subtracted.\")\n",
    "        return Matrix(values=[[self.data[i][j] - N.data[i][j] for j in range(self.m)] for i in range(self.n)])\n",
    "\n",
    "    def mat_mult(self, N):\n",
    "        if self.m != N.n:\n",
    "            raise ValueError(\"Matrix multiplication not possible: M's columns must equal N's rows.\")\n",
    "        result = [[sum(self.data[i][k] * N.data[k][j] for k in range(self.m)) for j in range(N.m)] for i in range(self.n)]\n",
    "        return Matrix(values=result)\n",
    "\n",
    "    def element_mult(self, N):\n",
    "        if self.n != N.n or self.m != N.m:\n",
    "            raise ValueError(\"Matrices must have the same dimensions for element-wise multiplication.\")\n",
    "        return Matrix(values=[[self.data[i][j] * N.data[i][j] for j in range(self.m)] for i in range(self.n)])\n",
    "\n",
    "    def equals(self, N):\n",
    "        if self.n != N.n or self.m != N.m:\n",
    "            return False\n",
    "        return all(self.data[i][j] == N.data[i][j] for i in range(self.n) for j in range(self.m))\n",
    "\n",
    "    # Question 5\n",
    "\n",
    "    def __rmul__(self, c):\n",
    "        return self.scalarmul(c)\n",
    "\n",
    "    def __mul__(self, c):\n",
    "        if isinstance(c, Matrix):\n",
    "            return self.mat_mult(c)\n",
    "        else:\n",
    "            return self.scalarmul(c)\n",
    "\n",
    "    def __add__(self, N):\n",
    "        return self.add(N)\n",
    "\n",
    "    def __sub__(self, N):\n",
    "        return self.sub(N)\n",
    "\n",
    "    def __eq__(self, N):\n",
    "        return self.equals(N)\n",
    "\n",
    "    def __copy__(self):\n",
    "        return Matrix(values=[row[:] for row in self.data])\n",
    "        "
   ]
  },
  {
   "cell_type": "code",
   "execution_count": 52,
   "metadata": {},
   "outputs": [
    {
     "name": "stdout",
     "output_type": "stream",
     "text": [
      "[[0, 0, 0], [0, 0, 0], [0, 0, 0]]\n",
      "[[7, 3, 7], [2, 9, 6], [8, 0, 6]]\n",
      "6\n",
      "8\n",
      "[[7, 3, 7], [2, 9, 8], [8, 0, 6]]\n",
      "[[5, 1, 2], [9, 8, 3], [6, 0, 3]]\n"
     ]
    }
   ],
   "source": [
    "#Test\n",
    "M1 = Matrix(3, 3)\n",
    "print(M1.data) \n",
    "\n",
    "M2 = Matrix(values=[[7, 3, 7], [2, 9, 6], [8, 0, 6]])\n",
    "print(M2.data)  \n",
    "\n",
    "print(M2[1, 2]) \n",
    "\n",
    "M2[1, 2] = 8\n",
    "print(M2[1, 2])  \n",
    "\n",
    "M3 = Matrix(3, 3)\n",
    "M3.assign(M2)\n",
    "print(M3.data)  \n",
    "\n",
    "M3.assign([[5, 1, 2], [9, 8, 3], [6, 0, 3]])\n",
    "print(M3.data) "
   ]
  },
  {
   "cell_type": "markdown",
   "metadata": {},
   "source": [
    "2. Add the following methods:\n",
    "    * `shape()`: returns a tuple `(n,m)` of the shape of the matrix.\n",
    "    * `transpose()`: returns a new matrix instance which is the transpose of the matrix.\n",
    "    * `row(n)` and `column(n)`: that return the nth row or column of the matrix M as a new appropriately shaped matrix object.\n",
    "    * `to_list()`: which returns the matrix as a list of lists.\n",
    "    *  `block(n_0,n_1,m_0,m_1)` that returns a smaller matrix located at the n_0 to n_1 columns and m_0 to m_1 rows. \n",
    "    * (Extra credit) Modify `__getitem__` implemented above to support slicing.\n",
    "        "
   ]
  },
  {
   "cell_type": "code",
   "execution_count": 42,
   "metadata": {},
   "outputs": [
    {
     "name": "stdout",
     "output_type": "stream",
     "text": [
      "Shape of the matrix: (3, 3)\n",
      "Transpose of the matrix: [[1, 4, 7], [2, 5, 8], [3, 6, 9]]\n",
      "Row 1 of the matrix: [[4, 5, 6]]\n",
      "Column 2 of the matrix: [[3], [6], [9]]\n",
      "Matrix as a list of lists: [[1, 2, 3], [4, 5, 6], [7, 8, 9]]\n",
      "Block of the matrix (rows 1-2, columns 0-1): [[4, 5], [7, 8]]\n"
     ]
    }
   ],
   "source": [
    "#Test\n",
    "M = Matrix(values=[[1, 2, 3], [4, 5, 6], [7, 8, 9]])\n",
    "\n",
    "print(\"Shape of the matrix:\", M.shape()) \n",
    "\n",
    "transpose_M = M.transpose()\n",
    "print(\"Transpose of the matrix:\", transpose_M.to_list()) \n",
    "\n",
    "row_1 = M.row(1)\n",
    "print(\"Row 1 of the matrix:\", row_1.to_list())  \n",
    "\n",
    "column_2 = M.column(2)\n",
    "print(\"Column 2 of the matrix:\", column_2.to_list()) \n",
    "\n",
    "matrix_as_list = M.to_list()\n",
    "print(\"Matrix as a list of lists:\", matrix_as_list)  \n",
    "\n",
    "block_M = M.block(1, 3, 0, 2)  \n",
    "print(\"Block of the matrix (rows 1-2, columns 0-1):\", block_M.to_list()) "
   ]
  },
  {
   "cell_type": "markdown",
   "metadata": {},
   "source": [
    "3. Write functions that create special matrices (note these are standalone functions, not member functions of your `matrix` class):\n",
    "    * `constant(n,m,c)`: returns a `n` by `m` matrix filled with floats of value `c`.\n",
    "    * `zeros(n,m)` and `ones(n,m)`: return `n` by `m` matrices filled with floats of value `0` and `1`, respectively.\n",
    "    * `eye(n)`: returns the n by n identity matrix."
   ]
  },
  {
   "cell_type": "code",
   "execution_count": 43,
   "metadata": {},
   "outputs": [
    {
     "name": "stdout",
     "output_type": "stream",
     "text": [
      "Constant 3x3 matrix with value 5.0: [[5.0, 5.0, 5.0], [5.0, 5.0, 5.0], [5.0, 5.0, 5.0]]\n",
      "3x3 zeros matrix: [[0.0, 0.0, 0.0], [0.0, 0.0, 0.0], [0.0, 0.0, 0.0]]\n",
      "3x3 ones matrix: [[1.0, 1.0, 1.0], [1.0, 1.0, 1.0], [1.0, 1.0, 1.0]]\n",
      "3x3 identity matrix: [[1.0, 0.0, 0.0], [0.0, 1.0, 0.0], [0.0, 0.0, 1.0]]\n"
     ]
    }
   ],
   "source": [
    "def constant(n, m, c):\n",
    "    return [[float(c) for _ in range(m)] for _ in range(n)]\n",
    "\n",
    "def zeros(n, m):\n",
    "    return constant(n, m, 0)\n",
    "\n",
    "def ones(n, m):\n",
    "    return constant(n, m, 1)\n",
    "\n",
    "def eye(n):\n",
    "    return [[1.0 if i == j else 0.0 for j in range(n)] for i in range(n)]\n",
    "# Test \n",
    "print(\"Constant 3x3 matrix with value 5.0:\", constant(3, 3, 5))\n",
    "\n",
    "print(\"3x3 zeros matrix:\", zeros(3, 3))\n",
    "\n",
    "print(\"3x3 ones matrix:\", ones(3, 3))\n",
    "\n",
    "print(\"3x3 identity matrix:\", eye(3))"
   ]
  },
  {
   "cell_type": "markdown",
   "metadata": {},
   "source": [
    "4. Add the following member functions to your class. Make sure to appropriately test the dimensions of the matrices to make sure the operations are correct.\n",
    "    * `M.scalarmul(c)`: a matrix that is scalar product $cM$, where every element of $M$ is multiplied by $c$.\n",
    "    * `M.add(N)`: adds two matrices $M$ and $N$. Don’t forget to test that the sizes of the matrices are compatible for this and all other operations.\n",
    "    * `M.sub(N)`: subtracts two matrices $M$ and $N$.\n",
    "    * `M.mat_mult(N)`: returns a matrix that is the matrix product of two matrices $M$ and $N$.\n",
    "    * `M.element_mult(N)`: returns a matrix that is the element-wise product of two matrices $M$ and $N$.\n",
    "    * `M.equals(N)`: returns true/false if $M==N$."
   ]
  },
  {
   "cell_type": "code",
   "execution_count": 44,
   "metadata": {},
   "outputs": [
    {
     "name": "stdout",
     "output_type": "stream",
     "text": [
      "Scalar multiplication of M1 by 2: [[2, 4], [6, 8]]\n",
      "Matrix addition (M1 + M2): [[6, 8], [10, 12]]\n",
      "Matrix subtraction (M1 - M2): [[-4, -4], [-4, -4]]\n",
      "Matrix multiplication (M1 * M2): [[19, 22], [43, 50]]\n",
      "Element-wise multiplication (M1 * M2): [[5, 12], [21, 32]]\n",
      "M1 equals M2: False\n",
      "M1 equals M3: True\n"
     ]
    }
   ],
   "source": [
    "# Test matrices\n",
    "M1 = Matrix(values=[[1, 2], [3, 4]])\n",
    "M2 = Matrix(values=[[5, 6], [7, 8]])\n",
    "\n",
    "M_scalar = M1.scalarmul(2)\n",
    "print(\"Scalar multiplication of M1 by 2:\", M_scalar.to_list())  \n",
    "\n",
    "M_add = M1.add(M2)\n",
    "print(\"Matrix addition (M1 + M2):\", M_add.to_list())  \n",
    "\n",
    "M_sub = M1.sub(M2)\n",
    "print(\"Matrix subtraction (M1 - M2):\", M_sub.to_list())  \n",
    "\n",
    "M_mult = M1.mat_mult(M2)\n",
    "print(\"Matrix multiplication (M1 * M2):\", M_mult.to_list())  \n",
    "\n",
    "M_elem_mult = M1.element_mult(M2)\n",
    "print(\"Element-wise multiplication (M1 * M2):\", M_elem_mult.to_list())  \n",
    "\n",
    "print(\"M1 equals M2:\", M1.equals(M2))  \n",
    "M3 = Matrix(values=[[1, 2], [3, 4]])\n",
    "print(\"M1 equals M3:\", M1.equals(M3))  "
   ]
  },
  {
   "cell_type": "markdown",
   "metadata": {},
   "source": [
    "5. Overload python operators to appropriately use your functions in 4 and allow expressions like:\n",
    "    * 2*M\n",
    "    * M*2\n",
    "    * M+N\n",
    "    * M-N\n",
    "    * M*N\n",
    "    * M==N\n",
    "    * M=N\n"
   ]
  },
  {
   "cell_type": "code",
   "execution_count": 46,
   "metadata": {},
   "outputs": [
    {
     "name": "stdout",
     "output_type": "stream",
     "text": [
      "2 * M1: [[2, 4], [6, 8]]\n",
      "M1 * 2: [[2, 4], [6, 8]]\n",
      "M1 + M2: [[6, 8], [10, 12]]\n",
      "M1 - M2: [[-4, -4], [-4, -4]]\n",
      "M1 * M2 (matrix multiplication): [[19, 22], [43, 50]]\n",
      "M1 == M2: False\n",
      "M1 == M3: True\n",
      "M1 after copying to M4 and modifying M4: [[1, 2], [3, 4]]\n",
      "M4 after modification: [[10, 2], [3, 4]]\n"
     ]
    }
   ],
   "source": [
    "# Test matrices\n",
    "M1 = Matrix(values=[[1, 2], [3, 4]])\n",
    "M2 = Matrix(values=[[5, 6], [7, 8]])\n",
    "\n",
    "M_scalar1 = 2 * M1\n",
    "M_scalar2 = M1 * 2\n",
    "print(\"2 * M1:\", M_scalar1.to_list())  \n",
    "print(\"M1 * 2:\", M_scalar2.to_list()) \n",
    "\n",
    "M_add = M1 + M2\n",
    "print(\"M1 + M2:\", M_add.to_list())  \n",
    "\n",
    "M_sub = M1 - M2\n",
    "print(\"M1 - M2:\", M_sub.to_list())  \n",
    "\n",
    "M_mult = M1 * M2\n",
    "print(\"M1 * M2 (matrix multiplication):\", M_mult.to_list())  \n",
    "\n",
    "print(\"M1 == M2:\", M1 == M2)  \n",
    "M3 = Matrix(values=[[1, 2], [3, 4]])\n",
    "print(\"M1 == M3:\", M1 == M3)  \n",
    "\n",
    "M4 = M1.__copy__()\n",
    "M4[0, 0] = 10\n",
    "print(\"M1 after copying to M4 and modifying M4:\", M1.to_list())  \n",
    "print(\"M4 after modification:\", M4.to_list()) "
   ]
  },
  {
   "cell_type": "markdown",
   "metadata": {},
   "source": [
    "6. Demonstrate the basic properties of matrices with your matrix class by creating two 2 by 2 example matrices using your Matrix class and illustrating the following:\n",
    "\n",
    "$$\n",
    "(AB)C=A(BC)\n",
    "$$\n",
    "$$\n",
    "A(B+C)=AB+AC\n",
    "$$\n",
    "$$\n",
    "AB\\neq BA\n",
    "$$\n",
    "$$\n",
    "AI=A\n",
    "$$"
   ]
  },
  {
   "cell_type": "code",
   "execution_count": 47,
   "metadata": {},
   "outputs": [
    {
     "name": "stdout",
     "output_type": "stream",
     "text": [
      "Associativity: (AB)C == A(BC): True\n",
      "Distributive property: A(B + C) == AB + AC: True\n",
      "Non-commutative: AB != BA: True\n",
      "Identity property: AI == A: True\n"
     ]
    }
   ],
   "source": [
    "A = Matrix(values=[[1, 2], [3, 4]])\n",
    "B = Matrix(values=[[5, 6], [7, 8]])\n",
    "C = Matrix(values=[[2, 0], [1, 2]])\n",
    "\n",
    "I = Matrix(values=[[1, 0], [0, 1]])\n",
    "\n",
    "AB = A * B\n",
    "ABC_1 = AB * C  \n",
    "BC = B * C\n",
    "ABC_2 = A * BC  \n",
    "\n",
    "print(\"Associativity: (AB)C == A(BC):\", ABC_1.to_list() == ABC_2.to_list())  \n",
    "\n",
    "B_plus_C = B + C\n",
    "LHS = A * B_plus_C  \n",
    "AB = A * B\n",
    "AC = A * C\n",
    "RHS = AB + AC \n",
    "\n",
    "print(\"Distributive property: A(B + C) == AB + AC:\", LHS.to_list() == RHS.to_list())  \n",
    "\n",
    "BA = B * A\n",
    "print(\"Non-commutative: AB != BA:\", AB.to_list() != BA.to_list())  \n",
    "\n",
    "AI = A * I\n",
    "print(\"Identity property: AI == A:\", AI.to_list() == A.to_list())  "
   ]
  },
  {
   "cell_type": "code",
   "execution_count": null,
   "metadata": {},
   "outputs": [],
   "source": []
  }
 ],
 "metadata": {
  "kernelspec": {
   "display_name": "Python 3 (ipykernel)",
   "language": "python",
   "name": "python3"
  },
  "language_info": {
   "codemirror_mode": {
    "name": "ipython",
    "version": 3
   },
   "file_extension": ".py",
   "mimetype": "text/x-python",
   "name": "python",
   "nbconvert_exporter": "python",
   "pygments_lexer": "ipython3",
   "version": "3.11.5"
  }
 },
 "nbformat": 4,
 "nbformat_minor": 4
}

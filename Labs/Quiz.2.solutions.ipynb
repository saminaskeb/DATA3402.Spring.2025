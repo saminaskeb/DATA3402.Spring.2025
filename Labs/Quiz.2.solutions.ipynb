{
  "nbformat": 4,
  "nbformat_minor": 0,
  "metadata": {
    "colab": {
      "provenance": []
    },
    "kernelspec": {
      "name": "python3",
      "display_name": "Python 3"
    },
    "language_info": {
      "name": "python"
    }
  },
  "cells": [
    {
      "cell_type": "markdown",
      "source": [
        "# **Quiz 2**"
      ],
      "metadata": {
        "id": "eCn-1PoI36mC"
      }
    },
    {
      "cell_type": "markdown",
      "source": [
        "**Write a function make_deck that returns a list of all of the cards in a standard card deck. The return should be a list of tuples of pairs of suit and value. For example the 10 of Clubs would be ('Clubs', 10) and Queen of Hearts would be ('Hearts', 'Queen'). Recall that a deck has 52 cards, divided into 4 suits (Clubs, Diamonds, Hearts, and Spades), and that each suit has 13 cards: 2 to 10, Jack, Queen, King, and Ace.**"
      ],
      "metadata": {
        "id": "abKH5zhY3wAn"
      }
    },
    {
      "cell_type": "code",
      "execution_count": 1,
      "metadata": {
        "id": "fFWSfLHQQJWE",
        "colab": {
          "base_uri": "https://localhost:8080/"
        },
        "outputId": "aad5bb83-1870-4c4f-9910-44542cd39997"
      },
      "outputs": [
        {
          "output_type": "stream",
          "name": "stdout",
          "text": [
            "Here is the deck of 52 cards:\n",
            "2 of Clubs\n",
            "3 of Clubs\n",
            "4 of Clubs\n",
            "5 of Clubs\n",
            "6 of Clubs\n",
            "7 of Clubs\n",
            "8 of Clubs\n",
            "9 of Clubs\n",
            "10 of Clubs\n",
            "Jack of Clubs\n",
            "Queen of Clubs\n",
            "King of Clubs\n",
            "Ace of Clubs\n",
            "2 of Diamonds\n",
            "3 of Diamonds\n",
            "4 of Diamonds\n",
            "5 of Diamonds\n",
            "6 of Diamonds\n",
            "7 of Diamonds\n",
            "8 of Diamonds\n",
            "9 of Diamonds\n",
            "10 of Diamonds\n",
            "Jack of Diamonds\n",
            "Queen of Diamonds\n",
            "King of Diamonds\n",
            "Ace of Diamonds\n",
            "2 of Hearts\n",
            "3 of Hearts\n",
            "4 of Hearts\n",
            "5 of Hearts\n",
            "6 of Hearts\n",
            "7 of Hearts\n",
            "8 of Hearts\n",
            "9 of Hearts\n",
            "10 of Hearts\n",
            "Jack of Hearts\n",
            "Queen of Hearts\n",
            "King of Hearts\n",
            "Ace of Hearts\n",
            "2 of Spades\n",
            "3 of Spades\n",
            "4 of Spades\n",
            "5 of Spades\n",
            "6 of Spades\n",
            "7 of Spades\n",
            "8 of Spades\n",
            "9 of Spades\n",
            "10 of Spades\n",
            "Jack of Spades\n",
            "Queen of Spades\n",
            "King of Spades\n",
            "Ace of Spades\n"
          ]
        }
      ],
      "source": [
        "def make_deck():\n",
        "    suits = ['Clubs', 'Diamonds', 'Hearts', 'Spades']\n",
        "    values = [2, 3, 4, 5, 6, 7, 8, 9, 10, 'Jack', 'Queen', 'King', 'Ace']\n",
        "\n",
        "    deck = [(suit, value) for suit in suits for value in values]\n",
        "\n",
        "    return deck\n",
        "\n",
        "def display_deck(deck):\n",
        "    print(\"Here is the deck of 52 cards:\")\n",
        "    for card in deck:\n",
        "        suit, value = card\n",
        "        print(f\"{value} of {suit}\")\n",
        "\n",
        "deck = make_deck()\n",
        "display_deck(deck)"
      ]
    },
    {
      "cell_type": "code",
      "source": [],
      "metadata": {
        "id": "_qrbgZSg4HAt"
      },
      "execution_count": null,
      "outputs": []
    }
  ]
}
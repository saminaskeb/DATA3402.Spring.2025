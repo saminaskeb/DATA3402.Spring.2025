{
 "cells": [
  {
   "cell_type": "markdown",
   "metadata": {},
   "source": [
    "## Lab 2- Tic Tac Toe\n",
    "\n",
    "In this lab your will build a n x n Tic Tac Toe game. As you do the exercises, make sure your solutions work for any size Tic Tac Toe game. "
   ]
  },
  {
   "cell_type": "markdown",
   "metadata": {},
   "source": [
    "*Exercise 1:* Write a function that creates an n by n matrix (of list of lists) which will represent the state of a Tie Tac Toe game. Let 0, 1, and 2 represent empty, \"X\", and \"O\", respectively.\n"
   ]
  },
  {
   "cell_type": "code",
   "execution_count": 3,
   "metadata": {},
   "outputs": [],
   "source": [
    "# Write you solution here\n",
    "def create_board(n):\n",
    "    return [[0 for _ in range(n)] for _ in range(n)]"
   ]
  },
  {
   "cell_type": "code",
   "execution_count": 4,
   "metadata": {},
   "outputs": [
    {
     "name": "stdout",
     "output_type": "stream",
     "text": [
      "[0, 0, 0]\n",
      "[0, 0, 0]\n",
      "[0, 0, 0]\n"
     ]
    }
   ],
   "source": [
    "# Test your solution here\n",
    "board = create_board(3)\n",
    "for row in board:\n",
    "  print(row)"
   ]
  },
  {
   "cell_type": "markdown",
   "metadata": {},
   "source": [
    "*Exercise 2:* Write a function that takes 2 integers `n` and `m` as input and draws a `n` by `m` game board. For example the following is a 3x3 board:\n",
    "```\n",
    "   --- --- --- \n",
    "  |   |   |   | \n",
    "   --- --- ---  \n",
    "  |   |   |   | \n",
    "   --- --- ---  \n",
    "  |   |   |   | \n",
    "   --- --- --- \n",
    "   ```"
   ]
  },
  {
   "cell_type": "code",
   "execution_count": 5,
   "metadata": {},
   "outputs": [],
   "source": [
    "# Write you solution here\n",
    "def draw_board(n, m):\n",
    "    for _ in range(n):\n",
    "        print(\" ---\" * m)\n",
    "        print(\"|   \" * m + \"|\")\n",
    "    print(\" ---\" * m)"
   ]
  },
  {
   "cell_type": "code",
   "execution_count": 6,
   "metadata": {},
   "outputs": [
    {
     "name": "stdout",
     "output_type": "stream",
     "text": [
      " --- --- ---\n",
      "|   |   |   |\n",
      " --- --- ---\n",
      "|   |   |   |\n",
      " --- --- ---\n",
      "|   |   |   |\n",
      " --- --- ---\n"
     ]
    }
   ],
   "source": [
    "# Test your solution here\n",
    "draw_board(3, 3)"
   ]
  },
  {
   "cell_type": "markdown",
   "metadata": {},
   "source": [
    "*Exercise 3:* Modify exercise 2, so that it takes a matrix of the form from exercise 1 and draws a tic-tac-tie board with \"X\"s and \"O\"s.  "
   ]
  },
  {
   "cell_type": "code",
   "execution_count": 7,
   "metadata": {},
   "outputs": [],
   "source": [
    "# Write you solution here\n",
    "def draw_tic_tac_toe(board):\n",
    "    n = len(board)\n",
    "    for row in board:\n",
    "        print(\" ---\" * n)\n",
    "        print(\"| \" + \" | \".join(['X' if x == 1 else 'O' if x == 2 else ' ' for x in row]) + \" |\")\n",
    "    print(\" ---\" * n)"
   ]
  },
  {
   "cell_type": "code",
   "execution_count": 8,
   "metadata": {},
   "outputs": [
    {
     "name": "stdout",
     "output_type": "stream",
     "text": [
      " --- --- ---\n",
      "| X |   | X |\n",
      " --- --- ---\n",
      "|   | X | X |\n",
      " --- --- ---\n",
      "| O | O | O |\n",
      " --- --- ---\n"
     ]
    }
   ],
   "source": [
    "# Test your solution here\n",
    "test_board = [[1, 0, 1], [0, 1, 1], [2, 2, 2]]\n",
    "draw_tic_tac_toe(test_board)"
   ]
  },
  {
   "cell_type": "markdown",
   "metadata": {},
   "source": [
    "*Exercise 4:* Write a function that takes a `n` by `n` matrix representing a tic-tac-toe game, and returns -1, 0, 1, or 2 indicating the game is incomplete, the game is a draw, player 1 has won, or player 2 has one, respectively. Here are some example inputs you can use to test your code:"
   ]
  },
  {
   "cell_type": "code",
   "execution_count": 12,
   "metadata": {},
   "outputs": [],
   "source": [
    "# Write you solution here\n",
    "def check_winner(board):\n",
    "    n = len(board)\n",
    "    \n",
    "    for i in range(n):\n",
    "        if all([board[i][j] == 1 for j in range(n)]):\n",
    "            return 1\n",
    "        if all([board[i][j] == 2 for j in range(n)]):\n",
    "            return 2\n",
    "        if all([board[j][i] == 1 for j in range(n)]):\n",
    "            return 1\n",
    "        if all([board[j][i] == 2 for j in range(n)]):\n",
    "            return 2\n",
    "    \n",
    "    if all([board[i][i] == 1 for i in range(n)]):\n",
    "        return 1\n",
    "    if all([board[i][i] == 2 for i in range(n)]):\n",
    "        return 2\n",
    "    if all([board[i][n-i-1] == 1 for i in range(n)]):\n",
    "        return 1\n",
    "    if all([board[i][n-i-1] == 2 for i in range(n)]):\n",
    "        return 2\n",
    "\n",
    "    if all(all(row) for row in board):\n",
    "        return 0  \n",
    "    return -1  "
   ]
  },
  {
   "cell_type": "code",
   "execution_count": 13,
   "metadata": {},
   "outputs": [
    {
     "name": "stdout",
     "output_type": "stream",
     "text": [
      "2\n",
      "1\n",
      "-1\n"
     ]
    }
   ],
   "source": [
    "# Test your solution here\n",
    "print(check_winner(winner_is_2))  # checking if player 2 has won\n",
    "print(check_winner(winner_is_1))  # checking if player 1 has won\n",
    "print(check_winner(no_winner))    # checking if no player has won or game is incomplete"
   ]
  },
  {
   "cell_type": "code",
   "execution_count": 10,
   "metadata": {},
   "outputs": [],
   "source": [
    "winner_is_2 = [[2, 2, 0],\n",
    "\t[2, 1, 0],\n",
    "\t[2, 1, 1]]\n",
    "\n",
    "winner_is_1 = [[1, 2, 0],\n",
    "\t[2, 1, 0],\n",
    "\t[2, 1, 1]]\n",
    "\n",
    "winner_is_also_1 = [[0, 1, 0],\n",
    "\t[2, 1, 0],\n",
    "\t[2, 1, 1]]\n",
    "\n",
    "no_winner = [[1, 2, 0],\n",
    "\t[2, 1, 0],\n",
    "\t[2, 1, 2]]\n",
    "\n",
    "also_no_winner = [[1, 2, 0],\n",
    "\t[2, 1, 0],\n",
    "\t[2, 1, 0]]"
   ]
  },
  {
   "cell_type": "markdown",
   "metadata": {},
   "source": [
    "*Exercise 5:* Write a function that takes a game board, player number, and `(x,y)` coordinates and places \"X\" or \"O\" in the correct location of the game board. Make sure that you only allow filling previously empty locations. Return `True` or `False` to indicate successful placement of \"X\" or \"O\"."
   ]
  },
  {
   "cell_type": "code",
   "execution_count": 14,
   "metadata": {},
   "outputs": [],
   "source": [
    "# Write you solution here\n",
    "def place_mark(board, player, x, y):\n",
    "    if board[x][y] == 0:  \n",
    "        board[x][y] = player\n",
    "        return True\n",
    "    return False"
   ]
  },
  {
   "cell_type": "code",
   "execution_count": 16,
   "metadata": {},
   "outputs": [
    {
     "name": "stdout",
     "output_type": "stream",
     "text": [
      " --- --- ---\n",
      "| X |   |   |\n",
      " --- --- ---\n",
      "|   |   |   |\n",
      " --- --- ---\n",
      "|   |   |   |\n",
      " --- --- ---\n"
     ]
    }
   ],
   "source": [
    "# Test your solution here\n",
    "place_mark(board, 1, 0, 0)  \n",
    "draw_tic_tac_toe(board)"
   ]
  },
  {
   "cell_type": "markdown",
   "metadata": {},
   "source": [
    "*Exercise 6:* Modify Exercise 3 to show column and row labels so that players can specify location using \"A2\" or \"C1\"."
   ]
  },
  {
   "cell_type": "code",
   "execution_count": 17,
   "metadata": {},
   "outputs": [],
   "source": [
    "# Write you solution here\n",
    "def draw_labeled_board(board):\n",
    "    n = len(board)\n",
    "    header = '    ' + '   '.join(chr(65 + i) for i in range(n)) \n",
    "    print(header)\n",
    "    print('   ' + '--- ' * n)  \n",
    "\n",
    "    for i, row in enumerate(board):\n",
    "        print(i + 1, end=' |')  \n",
    "        for val in row:\n",
    "            if val == 0:\n",
    "                print('   |', end='')  \n",
    "            elif val == 1:\n",
    "                print(' X |', end='')  \n",
    "            else:\n",
    "                print(' O |', end='') \n",
    "        print() \n",
    "        print('   ' + '--- ' * n)  "
   ]
  },
  {
   "cell_type": "code",
   "execution_count": 18,
   "metadata": {},
   "outputs": [
    {
     "name": "stdout",
     "output_type": "stream",
     "text": [
      "    A   B   C\n",
      "   --- --- --- \n",
      "1 | X |   | X |\n",
      "   --- --- --- \n",
      "2 |   | X | X |\n",
      "   --- --- --- \n",
      "3 | O | O | O |\n",
      "   --- --- --- \n"
     ]
    }
   ],
   "source": [
    "# Test your solution here\n",
    "draw_labeled_board(test_board)"
   ]
  },
  {
   "cell_type": "markdown",
   "metadata": {},
   "source": [
    "*Exercise 7:* Write a function that takes a board, player number, and location specified as in exercise 6 and then calls exercise 5 to correctly modify the board.  "
   ]
  },
  {
   "cell_type": "code",
   "execution_count": 19,
   "metadata": {},
   "outputs": [],
   "source": [
    "# Write you solution here\n",
    "def place_mark_using_location(board, player, location):\n",
    "    try:\n",
    "        column = ord(location[0].upper()) - 65  \n",
    "        row = int(location[1:]) - 1  \n",
    "    except (ValueError, IndexError):\n",
    "        print(\"Invalid input. Please use the correct format like 'A1'.\")\n",
    "        return False\n",
    "\n",
    "   \n",
    "    if 0 <= row < len(board) and 0 <= column < len(board) and board[row][column] == 0:\n",
    "        board[row][column] = player\n",
    "        return True\n",
    "    else:\n",
    "        print(\"Invalid move. Make sure the location is correct and not already taken.\")\n",
    "        return False"
   ]
  },
  {
   "cell_type": "code",
   "execution_count": 20,
   "metadata": {},
   "outputs": [
    {
     "name": "stdout",
     "output_type": "stream",
     "text": [
      "Initial Board:\n",
      "    A   B   C\n",
      "   --- --- --- \n",
      "1 |   |   |   |\n",
      "   --- --- --- \n",
      "2 |   |   |   |\n",
      "   --- --- --- \n",
      "3 |   |   |   |\n",
      "   --- --- --- \n"
     ]
    }
   ],
   "source": [
    "# Test your solution here\n",
    "board = create_board(3)\n",
    "print(\"Initial Board:\")\n",
    "draw_labeled_board(board) "
   ]
  },
  {
   "cell_type": "markdown",
   "metadata": {},
   "source": [
    "*Exercise 8:* Write a function is called with a board and player number, takes input from the player using python's `input`, and modifies the board using your function from exercise 7. Note that you should keep asking for input until you have gotten a valid input that results in a valid move."
   ]
  },
  {
   "cell_type": "code",
   "execution_count": 21,
   "metadata": {},
   "outputs": [],
   "source": [
    "# Write you solution here\n",
    "def player_input(board, player):\n",
    "    while True:\n",
    "        location = input(f\"Player {player}, enter your move: \")\n",
    "        if place_mark_using_location(board, player, location):\n",
    "            break\n",
    "        else:\n",
    "            print(\"Try again. Input format should be like 'A1'.\")"
   ]
  },
  {
   "cell_type": "code",
   "execution_count": null,
   "metadata": {
    "collapsed": true,
    "jupyter": {
     "outputs_hidden": true
    }
   },
   "outputs": [],
   "source": [
    "# Test your solution here\n",
    "print(\"Initial Board:\")\n",
    "draw_labeled_board(board)\n",
    "player_input(board, 1)\n",
    "print(\"\\nBoard after move:\")\n",
    "draw_labeled_board(board)"
   ]
  },
  {
   "cell_type": "markdown",
   "metadata": {},
   "source": [
    "*Exercise 9:* Use all of the previous exercises to implement a full tic-tac-toe game, where an appropriate board is drawn, 2 players are repeatedly asked for a location coordinates of where they wish to place a mark, and the game status is checked until a player wins or a draw occurs."
   ]
  },
  {
   "cell_type": "code",
   "execution_count": 22,
   "metadata": {},
   "outputs": [],
   "source": [
    "# Write you solution here\n",
    "def play_tic_tac_toe(n):\n",
    "    board = create_board(n)\n",
    "    current_player = 1  \n",
    "    game_status = -1  \n",
    "\n",
    "    while game_status == -1: \n",
    "        print(\"\\nCurrent Board:\")\n",
    "        draw_labeled_board(board)\n",
    "        player_input(board, current_player)  \n",
    "\n",
    "     \n",
    "        game_status = check_winner(board)\n",
    "\n",
    "        if game_status == 0:\n",
    "            print(\"\\nThe game is a draw!\")\n",
    "            break\n",
    "        elif game_status == 1:\n",
    "            print(\"\\nPlayer 1 wins!\")\n",
    "            break\n",
    "        elif game_status == 2:\n",
    "            print(\"\\nPlayer 2 wins!\")\n",
    "            break\n",
    "        else:\n",
    "         \n",
    "            current_player = 2 if current_player == 1 else 1  \n",
    "\n",
    "    print(\"\\nFinal Board:\")\n",
    "    draw_labeled_board(board)"
   ]
  },
  {
   "cell_type": "code",
   "execution_count": 23,
   "metadata": {},
   "outputs": [
    {
     "name": "stdout",
     "output_type": "stream",
     "text": [
      "\n",
      "Current Board:\n",
      "    A   B   C\n",
      "   --- --- --- \n",
      "1 |   |   |   |\n",
      "   --- --- --- \n",
      "2 |   |   |   |\n",
      "   --- --- --- \n",
      "3 |   |   |   |\n",
      "   --- --- --- \n"
     ]
    },
    {
     "name": "stdin",
     "output_type": "stream",
     "text": [
      "Player 1, enter your move:  a1\n"
     ]
    },
    {
     "name": "stdout",
     "output_type": "stream",
     "text": [
      "\n",
      "Current Board:\n",
      "    A   B   C\n",
      "   --- --- --- \n",
      "1 | X |   |   |\n",
      "   --- --- --- \n",
      "2 |   |   |   |\n",
      "   --- --- --- \n",
      "3 |   |   |   |\n",
      "   --- --- --- \n"
     ]
    },
    {
     "name": "stdin",
     "output_type": "stream",
     "text": [
      "Player 2, enter your move:  b2\n"
     ]
    },
    {
     "name": "stdout",
     "output_type": "stream",
     "text": [
      "\n",
      "Current Board:\n",
      "    A   B   C\n",
      "   --- --- --- \n",
      "1 | X |   |   |\n",
      "   --- --- --- \n",
      "2 |   | O |   |\n",
      "   --- --- --- \n",
      "3 |   |   |   |\n",
      "   --- --- --- \n"
     ]
    },
    {
     "name": "stdin",
     "output_type": "stream",
     "text": [
      "Player 1, enter your move:  a3\n"
     ]
    },
    {
     "name": "stdout",
     "output_type": "stream",
     "text": [
      "\n",
      "Current Board:\n",
      "    A   B   C\n",
      "   --- --- --- \n",
      "1 | X |   |   |\n",
      "   --- --- --- \n",
      "2 |   | O |   |\n",
      "   --- --- --- \n",
      "3 | X |   |   |\n",
      "   --- --- --- \n"
     ]
    },
    {
     "name": "stdin",
     "output_type": "stream",
     "text": [
      "Player 2, enter your move:  a2\n"
     ]
    },
    {
     "name": "stdout",
     "output_type": "stream",
     "text": [
      "\n",
      "Current Board:\n",
      "    A   B   C\n",
      "   --- --- --- \n",
      "1 | X |   |   |\n",
      "   --- --- --- \n",
      "2 | O | O |   |\n",
      "   --- --- --- \n",
      "3 | X |   |   |\n",
      "   --- --- --- \n"
     ]
    },
    {
     "name": "stdin",
     "output_type": "stream",
     "text": [
      "Player 1, enter your move:  c3\n"
     ]
    },
    {
     "name": "stdout",
     "output_type": "stream",
     "text": [
      "\n",
      "Current Board:\n",
      "    A   B   C\n",
      "   --- --- --- \n",
      "1 | X |   |   |\n",
      "   --- --- --- \n",
      "2 | O | O |   |\n",
      "   --- --- --- \n",
      "3 | X |   | X |\n",
      "   --- --- --- \n"
     ]
    },
    {
     "name": "stdin",
     "output_type": "stream",
     "text": [
      "Player 2, enter your move:  c2\n"
     ]
    },
    {
     "name": "stdout",
     "output_type": "stream",
     "text": [
      "\n",
      "Player 2 wins!\n",
      "\n",
      "Final Board:\n",
      "    A   B   C\n",
      "   --- --- --- \n",
      "1 | X |   |   |\n",
      "   --- --- --- \n",
      "2 | O | O | O |\n",
      "   --- --- --- \n",
      "3 | X |   | X |\n",
      "   --- --- --- \n"
     ]
    }
   ],
   "source": [
    "# Test your solution here\n",
    "play_tic_tac_toe(3)"
   ]
  },
  {
   "cell_type": "markdown",
   "metadata": {},
   "source": [
    "*Exercise 10:* Test that your game works for 5x5 Tic Tac Toe.  "
   ]
  },
  {
   "cell_type": "code",
   "execution_count": null,
   "metadata": {},
   "outputs": [
    {
     "name": "stdout",
     "output_type": "stream",
     "text": [
      "\n",
      "Current Board:\n",
      "    A   B   C   D   E\n",
      "   --- --- --- --- --- \n",
      "1 |   |   |   |   |   |\n",
      "   --- --- --- --- --- \n",
      "2 |   |   |   |   |   |\n",
      "   --- --- --- --- --- \n",
      "3 |   |   |   |   |   |\n",
      "   --- --- --- --- --- \n",
      "4 |   |   |   |   |   |\n",
      "   --- --- --- --- --- \n",
      "5 |   |   |   |   |   |\n",
      "   --- --- --- --- --- \n"
     ]
    },
    {
     "name": "stdin",
     "output_type": "stream",
     "text": [
      "Player 1, enter your move:  a2\n"
     ]
    },
    {
     "name": "stdout",
     "output_type": "stream",
     "text": [
      "\n",
      "Current Board:\n",
      "    A   B   C   D   E\n",
      "   --- --- --- --- --- \n",
      "1 |   |   |   |   |   |\n",
      "   --- --- --- --- --- \n",
      "2 | X |   |   |   |   |\n",
      "   --- --- --- --- --- \n",
      "3 |   |   |   |   |   |\n",
      "   --- --- --- --- --- \n",
      "4 |   |   |   |   |   |\n",
      "   --- --- --- --- --- \n",
      "5 |   |   |   |   |   |\n",
      "   --- --- --- --- --- \n"
     ]
    },
    {
     "name": "stdin",
     "output_type": "stream",
     "text": [
      "Player 2, enter your move:  c4\n"
     ]
    },
    {
     "name": "stdout",
     "output_type": "stream",
     "text": [
      "\n",
      "Current Board:\n",
      "    A   B   C   D   E\n",
      "   --- --- --- --- --- \n",
      "1 |   |   |   |   |   |\n",
      "   --- --- --- --- --- \n",
      "2 | X |   |   |   |   |\n",
      "   --- --- --- --- --- \n",
      "3 |   |   |   |   |   |\n",
      "   --- --- --- --- --- \n",
      "4 |   |   | O |   |   |\n",
      "   --- --- --- --- --- \n",
      "5 |   |   |   |   |   |\n",
      "   --- --- --- --- --- \n"
     ]
    },
    {
     "name": "stdin",
     "output_type": "stream",
     "text": [
      "Player 1, enter your move:  d3\n"
     ]
    },
    {
     "name": "stdout",
     "output_type": "stream",
     "text": [
      "\n",
      "Current Board:\n",
      "    A   B   C   D   E\n",
      "   --- --- --- --- --- \n",
      "1 |   |   |   |   |   |\n",
      "   --- --- --- --- --- \n",
      "2 | X |   |   |   |   |\n",
      "   --- --- --- --- --- \n",
      "3 |   |   |   | X |   |\n",
      "   --- --- --- --- --- \n",
      "4 |   |   | O |   |   |\n",
      "   --- --- --- --- --- \n",
      "5 |   |   |   |   |   |\n",
      "   --- --- --- --- --- \n"
     ]
    }
   ],
   "source": [
    "# Test your solution here\n",
    "play_tic_tac_toe(5)"
   ]
  },
  {
   "cell_type": "markdown",
   "metadata": {},
   "source": [
    "*Exercise 11:* (Advanced / Challenge) Develop a version of the game where one player is the computer. Note that you don't need to do an extensive seach for the best move. You can have the computer simply protect against loosing and otherwise try to win with straight or diagonal patterns."
   ]
  },
  {
   "cell_type": "code",
   "execution_count": null,
   "metadata": {
    "collapsed": true,
    "jupyter": {
     "outputs_hidden": true
    }
   },
   "outputs": [],
   "source": [
    "# Write you solution here"
   ]
  },
  {
   "cell_type": "code",
   "execution_count": null,
   "metadata": {
    "collapsed": true,
    "jupyter": {
     "outputs_hidden": true
    }
   },
   "outputs": [],
   "source": [
    "# Test your solution here"
   ]
  }
 ],
 "metadata": {
  "kernelspec": {
   "display_name": "Python 3 (ipykernel)",
   "language": "python",
   "name": "python3"
  },
  "language_info": {
   "codemirror_mode": {
    "name": "ipython",
    "version": 3
   },
   "file_extension": ".py",
   "mimetype": "text/x-python",
   "name": "python",
   "nbconvert_exporter": "python",
   "pygments_lexer": "ipython3",
   "version": "3.11.5"
  }
 },
 "nbformat": 4,
 "nbformat_minor": 4
}
